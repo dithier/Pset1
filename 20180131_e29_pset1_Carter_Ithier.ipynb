{
 "cells": [
  {
   "cell_type": "markdown",
   "metadata": {},
   "source": [
    "### Your Name Here: Carter Ithier\n",
    "### Your TF Name: Joe\n",
    "### Graduate or Undergraduate Credit: Graduate"
   ]
  },
  {
   "cell_type": "markdown",
   "metadata": {},
   "source": [
    "## This is e29 PSET1\n",
    "##### 20180131_e29_pset1\n",
    "##### Harvard University DCE CSCI-E29\n",
    "##### Instructor: Nenad Svrzikapa\n",
    "##### Staff: Joe Palin, Kaleigh Douglas, Lena Hajjar, Phil Lodine, Alan Xie\n",
    "### Instructions:\n",
    "\n",
    "Welcome to PSET1.  Here we will learn how to use some of the concepts presented in class and more.  Before you get started please review and understand our Academic Integrity policy.  We understand that for some of your work you may have to use external sorces.  Please cite and be a good acedemic citizen. Remember that All homework assignments, quizzes and exams must be your independent work!\n",
    "\n",
    "Tips from staff:  \n",
    "\n",
    "1. Don't wait until the last day, our Psets require time and learning\n",
    "2. Piazza is there for you, we are a team and our goal is not to test you, we want to teach you! Please ask questions!\n",
    "3. Program a bit every day.  You can't learn these concepts by reading 2 chapters and attempting to solve the problems. Read a little, try the code, change the code,break the code, understand, learn."
   ]
  },
  {
   "cell_type": "markdown",
   "metadata": {},
   "source": [
    "## Problem 1: Computing Class Grades\n",
    "### Created by: Kaleigh\n",
    "### Undergraduate 2.5 points Graduate 2 points\n",
    "\n",
    "\n",
    "### Suppose you teach a class of 12 students.  At the end of the semester, you need to calculate a final grade for each student as well as some basic class statistics.  \n",
    "\n",
    "Each student's grade is a combination of:   \n",
    "1) An individual grade (randomly assigned between 75 and 90 points)  \n",
    "2) A group project  \n",
    "3) Class participation  \n",
    "\n",
    "#### Note: Print your results after each step.\n"
   ]
  },
  {
   "cell_type": "markdown",
   "metadata": {},
   "source": [
    "#### Step 1: Create a numpy array containing the individual grades for all 12 students in the course.  The grades should been randomly assigned integers in the range of 75 to 90 inclusive.  Your result should be a 1-D numpy array of length 12. (Hint: use random.randint())  "
   ]
  },
  {
   "cell_type": "code",
   "execution_count": 9,
   "metadata": {},
   "outputs": [
    {
     "data": {
      "text/plain": [
       "array([78, 89, 90, 88, 81, 81, 75, 84, 83, 79, 82, 89])"
      ]
     },
     "execution_count": 9,
     "metadata": {},
     "output_type": "execute_result"
    }
   ],
   "source": [
    "import numpy as np\n",
    "np.random.seed(5)\n",
    "\n",
    "# Your code here\n",
    "individual_grade = np.random.randint(75, 91, 12)\n",
    "individual_grade"
   ]
  },
  {
   "cell_type": "markdown",
   "metadata": {
    "collapsed": true
   },
   "source": [
    "#### Step 2: Assign student groups by reshaping your 1-D numpy array to be a 2-D array with shape 4 rows x 3 columns.  Each row represents a group containing 3 students."
   ]
  },
  {
   "cell_type": "code",
   "execution_count": 13,
   "metadata": {},
   "outputs": [
    {
     "data": {
      "text/plain": [
       "array([[78, 89, 90],\n",
       "       [88, 81, 81],\n",
       "       [75, 84, 83],\n",
       "       [79, 82, 89]])"
      ]
     },
     "execution_count": 13,
     "metadata": {},
     "output_type": "execute_result"
    }
   ],
   "source": [
    "# Your code here\n",
    "individual_grade = individual_grade.reshape(4,3)\n",
    "individual_grade"
   ]
  },
  {
   "cell_type": "markdown",
   "metadata": {},
   "source": [
    "#### Step 3: Assign group project grades to the students.  Add the following points to each student's grade: (Hint - think broadcasting)  \n",
    "- Row 1 earned a grade worth 14 points.  \n",
    "- Row 2 earned a grade worth 12 points.  \n",
    "- Row 3 earned a grade worth 10 points.  \n",
    "- Row 4 earned a grade worth 8 points."
   ]
  },
  {
   "cell_type": "code",
   "execution_count": 15,
   "metadata": {},
   "outputs": [
    {
     "data": {
      "text/plain": [
       "array([[ 92, 103, 104],\n",
       "       [100,  93,  93],\n",
       "       [ 85,  94,  93],\n",
       "       [ 87,  90,  97]])"
      ]
     },
     "execution_count": 15,
     "metadata": {},
     "output_type": "execute_result"
    }
   ],
   "source": [
    "# Array of project grades\n",
    "proj_grades = np.array([[14,12,10,8]]).T\n",
    "\n",
    "# Your code here\n",
    "group_grades = proj_grades + individual_grade\n",
    "group_grades\n"
   ]
  },
  {
   "cell_type": "markdown",
   "metadata": {},
   "source": [
    "#### Step 4: Assign class participation grades to the students.  Multiply each student's grade by the following percentages:  \n",
    "- Column 1 earned a grade worth 100%.\n",
    "- Column 2 earned a grade worth 80%.\n",
    "- Column 3 earned a grade worth 60%. "
   ]
  },
  {
   "cell_type": "code",
   "execution_count": 20,
   "metadata": {},
   "outputs": [
    {
     "data": {
      "text/plain": [
       "array([[  92. ,   82.4,   62.4],\n",
       "       [ 100. ,   74.4,   55.8],\n",
       "       [  85. ,   75.2,   55.8],\n",
       "       [  87. ,   72. ,   58.2]])"
      ]
     },
     "execution_count": 20,
     "metadata": {},
     "output_type": "execute_result"
    }
   ],
   "source": [
    "# Array of participation grades\n",
    "part_grades = np.array([1.0, 0.8, 0.6])\n",
    "\n",
    "# Your code here\n",
    "participation_grade = group_grades * part_grades\n",
    "participation_grade"
   ]
  },
  {
   "cell_type": "markdown",
   "metadata": {},
   "source": [
    "#### Step 5: The first student listed in group 4 (last row, first column) did a particularly great job this semester.  Add 2 points to her grade."
   ]
  },
  {
   "cell_type": "code",
   "execution_count": 23,
   "metadata": {},
   "outputs": [
    {
     "data": {
      "text/plain": [
       "array([[  92. ,   82.4,   62.4],\n",
       "       [ 100. ,   74.4,   55.8],\n",
       "       [  85. ,   75.2,   55.8],\n",
       "       [  89. ,   72. ,   58.2]])"
      ]
     },
     "execution_count": 23,
     "metadata": {},
     "output_type": "execute_result"
    }
   ],
   "source": [
    "# Your code here\n",
    "participation_grade[3,0] = participation_grade[3,0] + 2\n",
    "participation_grade"
   ]
  },
  {
   "cell_type": "markdown",
   "metadata": {},
   "source": [
    "#### Step 6: Compute the following class statistics:  \n",
    "- the minimum grade  \n",
    "- the maximum grade  \n",
    "- the mean grade  "
   ]
  },
  {
   "cell_type": "code",
   "execution_count": 27,
   "metadata": {},
   "outputs": [
    {
     "name": "stdout",
     "output_type": "stream",
     "text": [
      "55.8\n",
      "100.0\n",
      "75.1833333333\n"
     ]
    }
   ],
   "source": [
    "# Your code here\n",
    "\n",
    "# Min grade\n",
    "# https://docs.scipy.org/doc/numpy-1.13.0/reference/generated/numpy.amin.html\n",
    "min_grade = np.amin(participation_grade)\n",
    "print(min_grade)\n",
    "\n",
    "# Max grade\n",
    "# https://docs.scipy.org/doc/numpy-1.13.0/reference/generated/numpy.amax.html\n",
    "max_grade = np.amax(participation_grade)\n",
    "print(max_grade)\n",
    "\n",
    "# Mean grade\n",
    "# https://docs.scipy.org/doc/numpy-1.13.0/reference/generated/numpy.mean.html\n",
    "mean_grade = np.mean(participation_grade)\n",
    "print(mean_grade)\n"
   ]
  },
  {
   "cell_type": "markdown",
   "metadata": {},
   "source": [
    "## Problem 2: Run-Length Encoding\n",
    "### Created by: Alan\n",
    "### Undergraduate 2.5 points Graduate 2 points\n",
    "\n",
    "Throughout the course of this problem, we're going to explore the `random` module in the `numpy` library. We're also going to learn about the magic command `%pdoc`, how to write unit tests in Python, and other best practices that will be helpful for the rest of the semester and beyond. \n",
    "\n",
    "Before we get into the code, let's take a brief look at the Wikipedia page for run-length encoding: https://en.wikipedia.org/wiki/Run-length_encoding#Example"
   ]
  },
  {
   "cell_type": "code",
   "execution_count": 1,
   "metadata": {},
   "outputs": [
    {
     "data": {
      "image/png": "[encoded data removed]",
      "text/plain": [
       "<IPython.core.display.Image object>"
      ]
     },
     "execution_count": 1,
     "metadata": {},
     "output_type": "execute_result"
    }
   ],
   "source": [
    "# This is one way to display an image in a Jupyter notebook!\n",
    "from IPython.display import Image\n",
    "Image('http://www.stoimen.com/blog/wp-content/uploads/2012/01/Run-lengthEncoding1.png')"
   ]
  },
  {
   "cell_type": "markdown",
   "metadata": {},
   "source": [
    "Basically, run-length encoding can be thought of as one of the most basic forms of compression. Although it isn't very effective for datasets where the same value doesn't repeat very often, it has limited applications that can be very useful. For instance, we can record the results of a coin flip (as **H** or **T**) and use run-length encoding to compress the resulting string. **HHTTTTTTHTTTTHHH** becomes **H2T6H1T4H3**."
   ]
  },
  {
   "cell_type": "code",
   "execution_count": 28,
   "metadata": {
    "collapsed": true
   },
   "outputs": [],
   "source": [
    "import numpy as np"
   ]
  },
  {
   "cell_type": "markdown",
   "metadata": {},
   "source": [
    "After importing `numpy`, let's do some exploring. First, let's run the magic command `%pdoc` on the `numpy` library below. Per the documentation for [Jupyter notebooks](http://ipython.readthedocs.io/en/stable/interactive/magics.html), the stated functionality is: __\"Print the docstring for an object.\"__ You'll notice that a screen pops up at the bottom of your window - feel free to click the \"X\" in the top right corner of that pop-up to close it when you're done reading. Executing the cell again will bring up the pop-up again."
   ]
  },
  {
   "cell_type": "code",
   "execution_count": 29,
   "metadata": {
    "collapsed": true
   },
   "outputs": [],
   "source": [
    "%pdoc np"
   ]
  },
  {
   "cell_type": "markdown",
   "metadata": {},
   "source": [
    "Looking briefly through the documentation for `numpy`, you'll see a general summary of what the library does. This information is also available in the [online documentation for NumPy](https://docs.scipy.org/doc/numpy-dev/index.html) but it's usually faster to use a magic command in your notebook than it is to run a Google search. Plus, you can keep coding in the upper half of your screen while the docstring pop-up is open. It's totally okay to use the online documentation if you prefer - but hopefully you're more comfortable with using magic commands now! \n",
    "\n",
    "This `%pdoc` command has a similar functionality to the `man` pages (manual pages) found on Unix systems. (If you have a Mac or Linux machine, open up your Terminal and type `man cd` to see a manual page for the `change directory` command as an example. Since you're using a Jupyter notebook, you likely typed `jupyter notebook` in your Terminal to get here - try running `man` on that as well!)\n",
    "\n",
    "For this problem, we don't really need to read too much documentation about the `numpy` library itself; let's dive further into a specific module within the library. Run the below command on the `np.random` module and see what description comes up."
   ]
  },
  {
   "cell_type": "code",
   "execution_count": 30,
   "metadata": {
    "collapsed": true
   },
   "outputs": [],
   "source": [
    "%pdoc np.random"
   ]
  },
  {
   "cell_type": "markdown",
   "metadata": {},
   "source": [
    "This is where things get really interesting! The documentation for the `np.random` module gives us a list of functions in the module (organized by category in this particular docstring) as well as a brief description of what each function does. For this problem, we care about `np.random.choice` so let's dig deeper into what that does."
   ]
  },
  {
   "cell_type": "code",
   "execution_count": 31,
   "metadata": {
    "collapsed": true
   },
   "outputs": [],
   "source": [
    "%pdoc np.random.choice"
   ]
  },
  {
   "cell_type": "markdown",
   "metadata": {},
   "source": [
    "This is the final level of granularity that we'll examine. Notice that the docstring for `np.random.choice` is extremely detailed and specifies a number of important things:\n",
    "- Parameters that the function accepts, with types and whether they are optional\n",
    "- Return value(s), with types\n",
    "- Potential errors and why they may occur\n",
    "- Related functions in this module\n",
    "- Example usage with different test cases\n",
    "\n",
    "Before we dive into the weeds here, I want to note that `%pdoc` isn't the only way to access this documentation. You can get the exact same information in the [online documentation](https://docs.scipy.org/doc/numpy/reference/generated/numpy.random.choice.html) for `np.random.choice` or by calling the built-in Python `help(np.random.choice)` function or by printing the docstring property on the function with `print(np.random.choice.__doc__)`. \n",
    "\n",
    "However, these approaches to getting the documentation will return the docstring in your standard output (as opposed to opening a pop-up in your notebook). There's no wrong approach; choose the one you prefer when investigating a library, module, or function that you're confused about."
   ]
  },
  {
   "cell_type": "code",
   "execution_count": 7,
   "metadata": {},
   "outputs": [
    {
     "name": "stdout",
     "output_type": "stream",
     "text": [
      "<type 'builtin_function_or_method'>\n"
     ]
    }
   ],
   "source": [
    "# Notice that there are no parens!\n",
    "print(type(np.random.choice))"
   ]
  },
  {
   "cell_type": "markdown",
   "metadata": {},
   "source": [
    "Note that `np.random.choice` (without parens) refers to the function itself, whereas `np.random.choice()` is an invocation of said function. The invocation will fail if required arguments are not passed to it, but for the purposes of using `%pdoc` or `help()` or the `.__doc__` property, we want to refer to the function itself without parens."
   ]
  },
  {
   "cell_type": "code",
   "execution_count": 35,
   "metadata": {
    "collapsed": true
   },
   "outputs": [],
   "source": [
    "# Uncomment and run to see documentation in your output\n",
    "#help(np.random.choice)\n",
    "#print(np.random.choice.__doc__)\n",
    "\n",
    "# You can even run %pdoc on itself!\n",
    "# %pdoc %pdoc"
   ]
  },
  {
   "cell_type": "markdown",
   "metadata": {},
   "source": [
    "Now let's look at the `np.random.choice` documentation. There are 4 parameters, 3 of which are optional:\n",
    "- `a` : 1-D array specifying the range of possibilities\n",
    "- `size` (optional) : tuple specifying output shape, e.g. (x, y) represents x trials of y samples each\n",
    "- `replace` (optional) : boolean specifying sample replacement\n",
    "- `p` (optional) : 1-D array specifying the probabilities of each possible outcome given in a"
   ]
  },
  {
   "cell_type": "markdown",
   "metadata": {},
   "source": [
    "As an example, we're going to use `np.random.choice` to simulate 5 trials of 50 coin flips each. For the purposes of this problem, we're going to ignore the optional `replace` parameter."
   ]
  },
  {
   "cell_type": "code",
   "execution_count": 9,
   "metadata": {},
   "outputs": [
    {
     "data": {
      "text/plain": [
       "array([['H', 'H', 'H', 'H', 'H', 'H', 'T', 'T', 'H', 'T', 'T', 'H', 'H',\n",
       "        'T', 'H', 'T', 'H', 'H', 'H', 'H', 'H', 'T', 'H', 'H', 'T', 'H',\n",
       "        'T', 'H', 'T', 'T', 'H', 'H', 'T', 'T', 'H', 'H', 'H', 'T', 'T',\n",
       "        'H', 'H', 'H', 'T', 'H', 'T', 'T', 'T', 'H', 'H', 'T'],\n",
       "       ['H', 'H', 'T', 'T', 'H', 'T', 'H', 'H', 'H', 'T', 'H', 'H', 'H',\n",
       "        'T', 'H', 'T', 'H', 'T', 'T', 'T', 'T', 'T', 'T', 'H', 'T', 'H',\n",
       "        'T', 'T', 'T', 'H', 'H', 'T', 'T', 'H', 'T', 'H', 'H', 'H', 'T',\n",
       "        'H', 'H', 'T', 'H', 'H', 'T', 'H', 'H', 'H', 'H', 'H'],\n",
       "       ['T', 'T', 'T', 'H', 'H', 'H', 'T', 'T', 'H', 'T', 'T', 'H', 'T',\n",
       "        'H', 'T', 'H', 'T', 'T', 'H', 'H', 'H', 'T', 'T', 'T', 'T', 'H',\n",
       "        'T', 'T', 'T', 'H', 'H', 'H', 'T', 'H', 'H', 'H', 'T', 'H', 'T',\n",
       "        'H', 'T', 'H', 'H', 'H', 'H', 'H', 'H', 'T', 'H', 'T'],\n",
       "       ['H', 'T', 'H', 'H', 'H', 'T', 'H', 'H', 'H', 'H', 'T', 'H', 'H',\n",
       "        'T', 'H', 'T', 'T', 'H', 'H', 'T', 'H', 'T', 'T', 'H', 'T', 'T',\n",
       "        'T', 'H', 'H', 'T', 'T', 'H', 'H', 'T', 'H', 'T', 'T', 'T', 'H',\n",
       "        'T', 'T', 'T', 'T', 'T', 'H', 'H', 'T', 'H', 'T', 'T'],\n",
       "       ['T', 'H', 'T', 'H', 'H', 'H', 'T', 'H', 'T', 'H', 'T', 'T', 'T',\n",
       "        'H', 'T', 'H', 'T', 'H', 'H', 'H', 'T', 'T', 'H', 'H', 'H', 'H',\n",
       "        'T', 'H', 'H', 'H', 'T', 'T', 'T', 'T', 'T', 'T', 'H', 'T', 'H',\n",
       "        'T', 'T', 'T', 'H', 'H', 'H', 'T', 'T', 'T', 'H', 'T']],\n",
       "      dtype='|S1')"
      ]
     },
     "execution_count": 9,
     "metadata": {},
     "output_type": "execute_result"
    }
   ],
   "source": [
    "np.random.choice(['H','T'], size=(5, 50), p=[0.5,0.5])"
   ]
  },
  {
   "cell_type": "markdown",
   "metadata": {},
   "source": [
    "In the above function call, notice that we explicitly specify the values of `size` and `p`. We could also have omitted `p=[0.5,0.5]` from our function call, as the documentation for `np.random.choice` states that `p` is set to assume a uniform distribution by default - which corresponds perfectly to our 50-50 odds of flipping a coin."
   ]
  },
  {
   "cell_type": "markdown",
   "metadata": {},
   "source": [
    "## **ACTUAL CODING STARTS BELOW!**"
   ]
  },
  {
   "cell_type": "markdown",
   "metadata": {},
   "source": [
    "1) Let's write a function called `coin_simulator()` that takes two arguments, `trials` and `samples`, and uses `np.random.choice` to simulate some number `t` of trials of some number `s` samples of coin flips. The function should return an array of arrays (2-D array) per above. Some basic scaffolding has been provided for you. Again, note that the docstring is directly accessible as a property of the function via `.__doc__`. This should be a relatively simple function to write."
   ]
  },
  {
   "cell_type": "code",
   "execution_count": 250,
   "metadata": {
    "collapsed": true
   },
   "outputs": [],
   "source": [
    "def coin_simulator(trials, samples):\n",
    "    \"\"\"\n",
    "    @param trials : int specifying number of trials to conduct\n",
    "    @param samples : int specifying number of samples in a trial\n",
    "    @return result : 2-D array specifying the results of all trials, e.g. [['H', 'T'], ['H', 'T']]\n",
    "    \"\"\"\n",
    "    # Your code here\n",
    "    result = np.random.choice(['H', 'T'], size = (trials, samples), p = [0.5,0.5])\n",
    "    return result"
   ]
  },
  {
   "cell_type": "code",
   "execution_count": 11,
   "metadata": {},
   "outputs": [
    {
     "name": "stdout",
     "output_type": "stream",
     "text": [
      "\n",
      "    @param trials : int specifying number of trials to conduct\n",
      "    @param samples : int specifying number of samples in a trial\n",
      "    @return result : 2-D array specifying the results of all trials, e.g. [['H', 'T'], ['H', 'T']]\n",
      "    \n"
     ]
    }
   ],
   "source": [
    "print(coin_simulator.__doc__)"
   ]
  },
  {
   "cell_type": "markdown",
   "metadata": {},
   "source": [
    "2a) Let's execute your function to make sure that it works. I've also defined some sample data below to help us test this function. If all goes well, the below cell should execute without any errors."
   ]
  },
  {
   "cell_type": "code",
   "execution_count": 251,
   "metadata": {
    "scrolled": true
   },
   "outputs": [
    {
     "name": "stdout",
     "output_type": "stream",
     "text": [
      "[['T' 'T' 'T' 'H' 'T' 'T' 'H' 'T' 'H' 'H' 'H' 'T' 'H' 'T' 'H' 'T' 'H' 'T'\n",
      "  'H' 'T' 'T' 'T' 'T' 'T' 'T' 'T' 'T' 'T' 'T' 'T' 'T' 'H' 'H' 'T' 'H' 'T']\n",
      " ['H' 'T' 'H' 'H' 'H' 'H' 'T' 'H' 'H' 'H' 'H' 'T' 'T' 'T' 'H' 'H' 'T' 'T'\n",
      "  'T' 'H' 'H' 'T' 'T' 'H' 'T' 'T' 'H' 'T' 'T' 'H' 'T' 'H' 'T' 'T' 'H' 'T']\n",
      " ['H' 'H' 'T' 'T' 'H' 'H' 'H' 'T' 'T' 'T' 'T' 'T' 'T' 'T' 'T' 'H' 'H' 'T'\n",
      "  'H' 'H' 'T' 'H' 'H' 'H' 'H' 'H' 'T' 'T' 'H' 'H' 'H' 'T' 'H' 'T' 'T' 'T']\n",
      " ['T' 'H' 'T' 'T' 'H' 'H' 'T' 'T' 'H' 'T' 'T' 'T' 'H' 'H' 'T' 'T' 'H' 'T'\n",
      "  'H' 'T' 'H' 'H' 'T' 'T' 'H' 'T' 'T' 'T' 'H' 'H' 'H' 'T' 'H' 'H' 'T' 'H']\n",
      " ['T' 'T' 'T' 'H' 'T' 'H' 'T' 'H' 'T' 'T' 'T' 'H' 'H' 'H' 'H' 'H' 'T' 'H'\n",
      "  'H' 'T' 'T' 'T' 'H' 'H' 'T' 'H' 'H' 'T' 'T' 'T' 'H' 'T' 'H' 'H' 'T' 'H']\n",
      " ['T' 'T' 'H' 'H' 'T' 'H' 'T' 'T' 'T' 'H' 'H' 'T' 'T' 'T' 'H' 'H' 'T' 'T'\n",
      "  'H' 'T' 'T' 'H' 'H' 'H' 'H' 'T' 'T' 'T' 'T' 'H' 'T' 'T' 'T' 'H' 'T' 'H']\n",
      " ['T' 'T' 'H' 'T' 'T' 'T' 'T' 'H' 'T' 'H' 'T' 'T' 'H' 'H' 'T' 'H' 'H' 'T'\n",
      "  'T' 'T' 'H' 'T' 'H' 'H' 'H' 'H' 'H' 'H' 'H' 'H' 'T' 'T' 'H' 'T' 'H' 'H']\n",
      " ['T' 'T' 'T' 'T' 'T' 'T' 'T' 'H' 'H' 'H' 'H' 'T' 'T' 'H' 'H' 'H' 'H' 'H'\n",
      "  'H' 'H' 'H' 'H' 'T' 'T' 'T' 'H' 'H' 'T' 'T' 'H' 'T' 'T' 'H' 'T' 'H' 'T']]\n"
     ]
    }
   ],
   "source": [
    "test_trials = 8\n",
    "test_samples = 36\n",
    "tosses = coin_simulator(test_trials, test_samples)\n",
    "print(tosses)"
   ]
  },
  {
   "cell_type": "markdown",
   "metadata": {},
   "source": [
    "2b) Let's engage in some more rigorous testing to ensure that the shape of our data is correct. In a professional development setting, software engineers and data scientists write a lot of code to test their functions. We can write individual tests for each function that are caled unit tests. Depending on your engineering methodology, 50% of your code may end up being test code! \n",
    "\n",
    "Here, we'll use Python's native `assert` to write simple unit tests that check the shape of our `tosses` result from `coin_simulator()`. The way that `assert` works is that we make a claim: if the statement is `False` we'll trigger an `AssertionError` (with a custom message), otherwise the cell will execute as intended."
   ]
  },
  {
   "cell_type": "code",
   "execution_count": 252,
   "metadata": {
    "collapsed": true
   },
   "outputs": [],
   "source": [
    "# Test that `tosses` is of length `test_trials`\n",
    "assert len(tosses) == test_trials, 'Error: incorrect number of trials.'"
   ]
  },
  {
   "cell_type": "code",
   "execution_count": 253,
   "metadata": {
    "collapsed": true
   },
   "outputs": [],
   "source": [
    "# Test that each trial in `tosses` is of length `test_samples`\n",
    "for i in range(len(tosses)):\n",
    "    assert len(tosses[i]) == test_samples, 'Error: incorrect number of samples in trial %d.' % i"
   ]
  },
  {
   "cell_type": "markdown",
   "metadata": {},
   "source": [
    "2c) Let's write another function called `run_length_encoding()` that has one parameter, a 2-D array of tosses that is similar to the result of our testing `coin_simulator()` above. Your function should return a 2-D array of integer run-lengths. For the purposes of this exercise, we'll ignore whether a specific run-length corresponds to \"H\" or \"T\" - as you'll see in the next step, what we're really interested in is identifying the value of the maximum run-length in each trial.\n",
    "\n",
    "*Hint: you may need a double-nested `for` loop to iterate through each sample in each trial in `simulator_results`. Refer to the above definition of run-length encoding.*\n",
    "\n",
    "**Challenge: An elegant, Pythonic solution might rely on `itertools.groupby` and achieve the same functionality in a single line of code using list comprehensions.**"
   ]
  },
  {
   "cell_type": "code",
   "execution_count": 87,
   "metadata": {
    "collapsed": true
   },
   "outputs": [],
   "source": [
    "def run_length_encoding(simulator_results):\n",
    "    \"\"\"\n",
    "    @param simulator_results : 2-D array specifying the results of `coin_simulator()` trials\n",
    "    @return run_lengths : 2-D array of integers specifying the run-length encodings of each trial\n",
    "    ------\n",
    "    >>> run_length_encoding([['H','H','H','T','T'],['H','H','T','T','T']])\n",
    "    [[3, 2], [2, 3]]\n",
    "    \"\"\"\n",
    "    run_lengths = []\n",
    "    for i in range(len(simulator_results)):\n",
    "        count = 1\n",
    "        a = []\n",
    "        for j in range(len(simulator_results[i])):\n",
    "                try:\n",
    "                    if simulator_results[i,j] == simulator_results[i, j+1]:\n",
    "                        count += 1\n",
    "                    else:\n",
    "                        a.append(count)\n",
    "                        count = 1\n",
    "                except:\n",
    "                    a.append(count)\n",
    "                    run_lengths.append(a)\n",
    "    return run_lengths"
   ]
  },
  {
   "cell_type": "code",
   "execution_count": 254,
   "metadata": {
    "collapsed": true
   },
   "outputs": [],
   "source": [
    "# Another way to do this\n",
    "import itertools\n",
    "def run_length_encoding(simulator_results):\n",
    "    \"\"\"\n",
    "    @param simulator_results : 2-D array specifying the results of `coin_simulator()` trials\n",
    "    @return run_lengths : 2-D array of integers specifying the run-length encodings of each trial\n",
    "    ------\n",
    "    >>> run_length_encoding([['H','H','H','T','T'],['H','H','T','T','T']])\n",
    "    [[3, 2], [2, 3]]\n",
    "    \"\"\"\n",
    "    run_lengths = []\n",
    "    for i in range(len(simulator_results)):\n",
    "        grouping = [len(list(group)) for key, group in itertools.groupby(simulator_results[i])]\n",
    "        run_lengths.append(grouping)\n",
    "    return run_lengths"
   ]
  },
  {
   "cell_type": "markdown",
   "metadata": {},
   "source": [
    "2d) As before, let's test the function that you wrote. Here, we're importing a `type` called `IntType` for our assertion, which is that we want to ensure every run-length is of an integer value. Everything below should run smoothly if your function implementation is correct."
   ]
  },
  {
   "cell_type": "code",
   "execution_count": 255,
   "metadata": {
    "collapsed": true
   },
   "outputs": [],
   "source": [
    "encodings = run_length_encoding(tosses)\n",
    "for i in range(len(encodings)):\n",
    "    for j in range(len(encodings[i])):\n",
    "        assert type(encodings[i][j]) is int"
   ]
  },
  {
   "cell_type": "markdown",
   "metadata": {},
   "source": [
    "3a) Finally, we'll write a function called `max_run_lengths()`. This function should iterate through a 2-D array of run-lengths across all trials and return a 1-D array of integers specifying the max run-length for each trial. Using what we've learned about reading documentation, identify a function in the `numpy` library that can calculate the maximum value of a 1-D array and incorporate it into your solution."
   ]
  },
  {
   "cell_type": "code",
   "execution_count": 256,
   "metadata": {
    "collapsed": true
   },
   "outputs": [],
   "source": [
    "def max_run_length(encoding_result):\n",
    "    \"\"\"\n",
    "    @param encoding_result : 2-D array of integers specifying the results of `run_length_encoding()`\n",
    "    @return maxes : 1-D array of integers specifying the max run-length for each trial\n",
    "    >>> max_run_length([[3, 5, 1, 2], [6, 3, 4]])\n",
    "    [5, 6]\n",
    "    \"\"\"\n",
    "    maxes = []\n",
    "    for i in range(len(encoding_result)):\n",
    "        maximum = np.amax(encoding_result[i])\n",
    "        maxes.append(maximum)\n",
    "    return maxes"
   ]
  },
  {
   "cell_type": "markdown",
   "metadata": {},
   "source": [
    "3b) To cap things off, let's run the below tests to check that your code was implemented correctly. As before, we're checking the shape and type of our data."
   ]
  },
  {
   "cell_type": "code",
   "execution_count": 257,
   "metadata": {
    "collapsed": true
   },
   "outputs": [],
   "source": [
    "# Check that we have the correct number of maximums\n",
    "max_lengths = max_run_length(encodings)\n",
    "assert len(max_lengths) == test_trials\n",
    "for i in range(len(max_lengths)):\n",
    "    assert type(max_lengths[i]) is np.int32\n",
    "    \n"
   ]
  },
  {
   "cell_type": "markdown",
   "metadata": {},
   "source": [
    "#### The End!\n",
    "\n",
    "Although this problem (hopefully) wasn't too difficult, the above concepts will prove extremely useful as we proceed to cover libraries such as `pandas` and `scikit-learn`. Reading documentation is a valuable skill, and some of the gnarliest machine learning bugs can come from passing data to your model that's the wrong shape. Always remember to test your code!"
   ]
  },
  {
   "cell_type": "code",
   "execution_count": 143,
   "metadata": {},
   "outputs": [
    {
     "data": {
      "image/png": "[encoded data removed]",
      "text/plain": [
       "<IPython.core.display.Image object>"
      ]
     },
     "execution_count": 143,
     "metadata": {},
     "output_type": "execute_result"
    }
   ],
   "source": [
    "Image(\"https://imgs.xkcd.com/comics/machine_learning.png\")"
   ]
  },
  {
   "cell_type": "markdown",
   "metadata": {},
   "source": [
    "## Problem 3: Numpy warmup and Broadcasting\n",
    "### Created by: Phil\n",
    "### Undergraduate 2.5 points Graduate 2 points\n",
    "You should be able to complete both parts of this problem without using any *for* loops.\n",
    "\n",
    "#### Numpy warmup exercises\n",
    "\n",
    "Import the numpy package, then write a single line of Python that creates a variable **a** and binds it to a numpy array of integers with 5 rows and 4 columns, containing the integers 1 through 20 inclusive. Print the contents of the array."
   ]
  },
  {
   "cell_type": "code",
   "execution_count": 258,
   "metadata": {},
   "outputs": [
    {
     "name": "stdout",
     "output_type": "stream",
     "text": [
      "[[ 1  2  3  4]\n",
      " [ 5  6  7  8]\n",
      " [ 9 10 11 12]\n",
      " [13 14 15 16]\n",
      " [17 18 19 20]]\n"
     ]
    }
   ],
   "source": [
    "import numpy as np\n",
    "# your code here\n",
    "a = np.arange(1,21).reshape(5,4)\n",
    "print(a)"
   ]
  },
  {
   "cell_type": "markdown",
   "metadata": {},
   "source": [
    "In the same context (no need to import numpy again) create a variable **b** bound to an array containing the integers 1 through 5 inclusive, and print its contents."
   ]
  },
  {
   "cell_type": "code",
   "execution_count": 259,
   "metadata": {},
   "outputs": [
    {
     "name": "stdout",
     "output_type": "stream",
     "text": [
      "[1 2 3 4 5]\n"
     ]
    }
   ],
   "source": [
    "# your code here\n",
    "b = np.arange(1,6)\n",
    "print(b)"
   ]
  },
  {
   "cell_type": "markdown",
   "metadata": {},
   "source": [
    "Multiply the two arrays."
   ]
  },
  {
   "cell_type": "code",
   "execution_count": 101,
   "metadata": {},
   "outputs": [
    {
     "ename": "ValueError",
     "evalue": "operands could not be broadcast together with shapes (5,4) (5,) ",
     "output_type": "error",
     "traceback": [
      "\u001b[1;31m---------------------------------------------------------------------------\u001b[0m",
      "\u001b[1;31mValueError\u001b[0m                                Traceback (most recent call last)",
      "\u001b[1;32m<ipython-input-101-50c60d586ce2>\u001b[0m in \u001b[0;36m<module>\u001b[1;34m()\u001b[0m\n\u001b[0;32m      1\u001b[0m \u001b[1;31m# your code here\u001b[0m\u001b[1;33m\u001b[0m\u001b[1;33m\u001b[0m\u001b[0m\n\u001b[1;32m----> 2\u001b[1;33m \u001b[0mnp\u001b[0m\u001b[1;33m.\u001b[0m\u001b[0mmultiply\u001b[0m\u001b[1;33m(\u001b[0m\u001b[0ma\u001b[0m\u001b[1;33m,\u001b[0m\u001b[0mb\u001b[0m\u001b[1;33m)\u001b[0m\u001b[1;33m\u001b[0m\u001b[0m\n\u001b[0m",
      "\u001b[1;31mValueError\u001b[0m: operands could not be broadcast together with shapes (5,4) (5,) "
     ]
    }
   ],
   "source": [
    "# your code here\n",
    "np.multiply(a,b)"
   ]
  },
  {
   "cell_type": "markdown",
   "metadata": {},
   "source": [
    "Does the operation succeed? If not, why not? Enter your answer in the following cell."
   ]
  },
  {
   "cell_type": "markdown",
   "metadata": {},
   "source": [
    ">> The operation did not succeed. This is because matrix a has 4 columns while matrix b has 5. These dimensions don't match so they can't be multiplied."
   ]
  },
  {
   "cell_type": "markdown",
   "metadata": {},
   "source": [
    "If the operation failed, write a line of code that modifies either **a** or **b** so that the two arrays can be multiplied, then multiply the arrays and print the results."
   ]
  },
  {
   "cell_type": "code",
   "execution_count": 105,
   "metadata": {},
   "outputs": [
    {
     "data": {
      "text/plain": [
       "array([[  1,   2,   3,   4],\n",
       "       [ 10,  12,  14,  16],\n",
       "       [ 27,  30,  33,  36],\n",
       "       [ 52,  56,  60,  64],\n",
       "       [ 85,  90,  95, 100]])"
      ]
     },
     "execution_count": 105,
     "metadata": {},
     "output_type": "execute_result"
    }
   ],
   "source": [
    "# your code here\n",
    "b = b.reshape(5,1)\n",
    "np.multiply(a,b)"
   ]
  },
  {
   "cell_type": "markdown",
   "metadata": {},
   "source": [
    "#### Broadcasting in action\n",
    "\n",
    "Broadcasting lets us apply operations efficiently using arrays of different sizes -- in a way, it's an extension of the idea of applying a scalar (a single value) to all of the elements of an array. The latter idea is conceptually like \"stretching\" the scalar into an array of the same size as the existing array, then applying the operation element-wise to the two arrays. Broadcasting involves a set of rules that let Python \"stretch\" one array into the same size as another so that operations can be applied element-wise. Note that Python doesn't actually create the additional array entries; it just does this algorithmically behind the scenes. Also, broadcasting obeys certain rules,  described in the text and documentation, that determine whether it can be applied to any two given arrays.\n",
    "\n",
    "Here's a chart showing the number of bicycle crossings for four New York City bridges in late April 2016:\n",
    "\n",
    "| Date       | Brooklyn Bridge | Manhattan Bridge | Williamsburg Bridge | Queensboro Bridge | \n",
    "|------------|-----------------|------------------|---------------------|-------------------| \n",
    "| 2016-04-26 | 1997.0          | 3520             | 4559.0              | 2929.0            | \n",
    "| 2016-04-27 | 3343.0          | 5606             | 6577.0              | 4388.0            | \n",
    "| 2016-04-28 | 2486.0          | 4152             | 5336.0              | 3657.0            | \n",
    "| 2016-04-29 | 2375.0          | 4178             | 5053.0              | 3348.0            | \n",
    "| 2016-04-30 | 3199.0          | 4952             | 5675.0              | 3606.0            | \n",
    "\n",
    "(source: kaggle.com; https://donatstudios.com/CsvToMarkdownTable)\n",
    "\n",
    "Let's represent this by a two-dimensional array, with rows containing counts by date, and columns containing counts by bridge (we'll omit the header row and date column for simplicity):"
   ]
  },
  {
   "cell_type": "code",
   "execution_count": 107,
   "metadata": {},
   "outputs": [
    {
     "name": "stdout",
     "output_type": "stream",
     "text": [
      "[[ 1997.  3520.  4559.  2929.]\n",
      " [ 3343.  5606.  6577.  4388.]\n",
      " [ 2486.  4152.  5336.  3657.]\n",
      " [ 2375.  4178.  5053.  3348.]\n",
      " [ 3199.  4952.  5675.  3606.]]\n"
     ]
    }
   ],
   "source": [
    "crossings = np.array([[ 1997.,  3520.,  4559.,  2929.],\n",
    "       [ 3343.,  5606.,  6577.,  4388.],\n",
    "       [ 2486.,  4152.,  5336.,  3657.],\n",
    "       [ 2375.,  4178.,  5053.,  3348.],\n",
    "       [ 3199.,  4952.,  5675.,  3606.]])\n",
    "print(crossings)"
   ]
  },
  {
   "cell_type": "markdown",
   "metadata": {},
   "source": [
    "We would like to know what percentage of each day's total bicycle crossings (of these four bridges) is represented by each bridge. This involves creating an array of the same size as the **crossings** array, where each element is a percentage of the total of the counts in that row of the original array.\n",
    "\n",
    "Start by writing a line of Python that creates an array called **totals**, the entries of which are the totals in the five rows. Hint: Use the *axis* parameter of np.ndarray's *sum* method."
   ]
  },
  {
   "cell_type": "code",
   "execution_count": 108,
   "metadata": {},
   "outputs": [
    {
     "name": "stdout",
     "output_type": "stream",
     "text": [
      "[ 13005.  19914.  15631.  14954.  17432.]\n"
     ]
    }
   ],
   "source": [
    "# Your code here\n",
    "totals = crossings.sum(axis = 1)\n",
    "print(totals)"
   ]
  },
  {
   "cell_type": "markdown",
   "metadata": {},
   "source": [
    "Combine the **crossings** and **totals** arrays to produce an array called **percents** containing the percentages represented by each element, as integers between 0 and 100 inclusive. Hint: these two arrays are not the same shape. (What shape are they?) Broadcasting is what allows Python to perform the element-wise operation(s) on the larger array."
   ]
  },
  {
   "cell_type": "code",
   "execution_count": 262,
   "metadata": {},
   "outputs": [
    {
     "name": "stdout",
     "output_type": "stream",
     "text": [
      "[[ 15.35563245  27.06651288  35.05574779  22.52210688]\n",
      " [ 16.7871849   28.15104951  33.02701617  22.03474942]\n",
      " [ 15.90429275  26.56259996  34.13729128  23.39581601]\n",
      " [ 15.88203825  27.93901297  33.79029022  22.38865855]\n",
      " [ 18.35130794  28.40752639  32.55507113  20.68609454]]\n"
     ]
    }
   ],
   "source": [
    "# Your code  here\n",
    "totals = totals.reshape(5,1)\n",
    "percents = (crossings / totals) * 100\n",
    "print(percents)"
   ]
  },
  {
   "cell_type": "markdown",
   "metadata": {},
   "source": [
    "## Problem 4: Matrix Multiplication (sorry, I took linear alegbra once)\n",
    "### Created by: Lena\n",
    "### Undergraduate 2.5 points Graduate 2 points\n",
    "\n",
    "\n",
    "I'm going to walk you through how to calculate the product of two matrices. Your goal is to make a function called matrixMultiplication(matrix1, matrix2) that performs matrix multiplication on two matrices. You can find out more information about matrix mulitplication here: https://www.mathsisfun.com/algebra/matrix-multiplying.html\n",
    "\n",
    "Don't worry, I'm not going to make you learn matrix multiplication on your own. "
   ]
  },
  {
   "cell_type": "code",
   "execution_count": 114,
   "metadata": {
    "collapsed": true
   },
   "outputs": [],
   "source": [
    "# We're going to need NumPy\n",
    "import numpy as np"
   ]
  },
  {
   "cell_type": "code",
   "execution_count": 115,
   "metadata": {},
   "outputs": [
    {
     "name": "stdout",
     "output_type": "stream",
     "text": [
      "[[1 2 3]\n",
      " [4 5 6]] \n",
      "\n",
      "[[ 7  8]\n",
      " [ 9 10]\n",
      " [11 12]]\n"
     ]
    }
   ],
   "source": [
    "# Let's start with 2 matrices, mat1 and mat2\n",
    "mat1 = np.array(range(1,7)).reshape(2,3)\n",
    "print(mat1, \"\\n\") # Should be a 2x3 matrix\n",
    "\n",
    "mat2 = np.array(range(7,13)).reshape(3,2)\n",
    "print(mat2) # Should be a 3x2 matrix "
   ]
  },
  {
   "cell_type": "markdown",
   "metadata": {},
   "source": [
    "#### Part 1: Find out how many rows and columns a matrix has\n",
    "\n",
    "In order to do matrix multiplication, we need to make sure that the number of columns in matrix1 is the same as the number of rows in matrix2.\n",
    "\n",
    "In the following cells, find the number of columns in mat1, and the number of rows in mat2.\n",
    "<br><b>Hint: Use the .shape attribute</b>\n"
   ]
  },
  {
   "cell_type": "code",
   "execution_count": 117,
   "metadata": {},
   "outputs": [
    {
     "name": "stdout",
     "output_type": "stream",
     "text": [
      "3\n"
     ]
    }
   ],
   "source": [
    "# Find the number of cols in mat1\n",
    "# Uncomment the below and complete!\n",
    "\n",
    "mat1Cols = mat1.shape[1]\n",
    "print(mat1Cols)"
   ]
  },
  {
   "cell_type": "code",
   "execution_count": 118,
   "metadata": {},
   "outputs": [
    {
     "name": "stdout",
     "output_type": "stream",
     "text": [
      "3\n"
     ]
    }
   ],
   "source": [
    "#Find the number of rows in mat2\n",
    "# Uncomment the below and complete!\n",
    "\n",
    "mat2Rows = mat2.shape[0]\n",
    "print(mat2Rows)"
   ]
  },
  {
   "cell_type": "markdown",
   "metadata": {},
   "source": [
    "#### Part 2: Make the matrix that will hold the product\n",
    "Regardless of the shape of the two matrices we're multiplying, the result will be a matrix with the same # of rows from the first matrix and the same # of number of columns from the second matrix. \n",
    "\n",
    "In the following cell, make sure that the number of columns of the first matrix is the same as the number of rows of the second matrix, and then make a zero matrix whose dimensions are the # of rows from the first matrix and the # of number of columns from the second matrix.\n",
    "<br><b>Hint: Use the .zeros() function, and have the numbers be integers</b>"
   ]
  },
  {
   "cell_type": "code",
   "execution_count": 121,
   "metadata": {},
   "outputs": [
    {
     "name": "stdout",
     "output_type": "stream",
     "text": [
      "[[ 0.  0.]\n",
      " [ 0.  0.]]\n"
     ]
    }
   ],
   "source": [
    "#find the number of rows in mat1 (use .shape)\n",
    "# Uncomment the below and complete! \n",
    "\n",
    "mat1Rows = mat1.shape[0]\n",
    "\n",
    "#find the number of columns in mat2 (use .shape)\n",
    "# Uncomment the below and complete! \n",
    "\n",
    "mat2Cols = mat2.shape[1]\n",
    "\n",
    "\n",
    "# Uncomment the below and complete! \n",
    "\n",
    "if mat1Cols == mat2Rows:\n",
    "#     # make a mat1Rows x mat2Cols with zeros (use .zeros())\n",
    "    \n",
    "    productMatrix = np.zeros((mat1Rows, mat2Cols))\n",
    "    print(productMatrix) # this should be a 2x2 matrix"
   ]
  },
  {
   "cell_type": "markdown",
   "metadata": {},
   "source": [
    "#### Part 3: Calculating the dot product\n",
    "Each element (i, j) of the product is the dot product of the ith row of the first matrix and the jth column of second matrix.\n",
    "To calculate the dot product, you need to do the following:\n",
    "<ol>\n",
    "<li>Multiply the two arrays (Hint: Use .multiply( ) ) </li>\n",
    "<li>Add the values of step 1 together (Hint: use .add.reduce( )) </li>\n",
    "</ol>\n"
   ]
  },
  {
   "cell_type": "markdown",
   "metadata": {},
   "source": [
    "It's easier to get a row from a matrix than a column, so let's <b> transpose </b> the second matrix. <br>\n",
    "<b> Hint: Use .transpose() </b>"
   ]
  },
  {
   "cell_type": "code",
   "execution_count": 90,
   "metadata": {},
   "outputs": [
    {
     "name": "stdout",
     "output_type": "stream",
     "text": [
      "[[ 7  8]\n",
      " [ 9 10]\n",
      " [11 12]] \n",
      "\n"
     ]
    }
   ],
   "source": [
    "# Here is mat2\n",
    "print(mat2, \"\\n\")\n",
    "\n",
    "# transpose mat2 and save it as mat2T\n",
    "# Uncomment the below and complete! \n",
    "\n",
    "# mat2T = \n",
    "# print(mat2T)"
   ]
  },
  {
   "cell_type": "markdown",
   "metadata": {},
   "source": [
    "Notice that we basically just flipped the matrix. The first row of the transposed matrix was the first column of the original matrix, and the second row of the transposed matrix was the second column of the original matrix. "
   ]
  },
  {
   "cell_type": "markdown",
   "metadata": {},
   "source": [
    "Now we can start the matrix mulitplication.\n",
    "The first element [0,0] of productMatrix is the dot product of the first row (row 0) of the first matrix and the first row (row 0) of the TRANSPOSED second matrix. \n",
    "\n",
    "The following cells will go over how to calculate the dot product."
   ]
  },
  {
   "cell_type": "code",
   "execution_count": 99,
   "metadata": {
    "collapsed": true
   },
   "outputs": [],
   "source": [
    "# First, let's get the 2 rows that we need. \n",
    "\n",
    "# get the first row of mat1 (should be [1,2,3])\n",
    "# Uncomment the below and complete! \n",
    "\n",
    "# mat1_0 = \n",
    "# print(mat1_0)\n",
    "\n",
    "# get the first row of mat2T (should be [7,9,11])\n",
    "# Uncomment the below and complete! \n",
    "\n",
    "# mat2T_0 = \n",
    "# print(mat2_0)\n"
   ]
  },
  {
   "cell_type": "code",
   "execution_count": 93,
   "metadata": {
    "collapsed": true
   },
   "outputs": [],
   "source": [
    "# multiply the 2 rows together using .multiply()\n",
    "# the result should be [7, 18, 33]\n",
    "# Uncomment the below and complete! \n",
    "\n",
    "# mult = \n",
    "# print(mult)\n"
   ]
  },
  {
   "cell_type": "code",
   "execution_count": 94,
   "metadata": {
    "collapsed": true
   },
   "outputs": [],
   "source": [
    "# add the values of the product above together using .add.reduce()\n",
    "# the result should be 58\n",
    "# Uncomment the below and complete! \n",
    "\n",
    "# nDot = \n",
    "# print(nDot)"
   ]
  },
  {
   "cell_type": "markdown",
   "metadata": {},
   "source": [
    "Congrats, you calculated the dot product! This was the hardest part of this problem. Now, so you don't have to re-write this code, write a function called myDot(row1, row2) that takes 2 1-dimensional arrays and calculates the dot product as we did above. "
   ]
  },
  {
   "cell_type": "code",
   "execution_count": 95,
   "metadata": {
    "collapsed": true
   },
   "outputs": [],
   "source": [
    "# Uncomment the below and complete! \n",
    "\n",
    "# def myDot(row1,row2):\n",
    "#     # multiply the two rows\n",
    "#     mult = \n",
    "#     # add the values of the product together\n",
    "#     nDot = \n",
    "#     # return the sum\n",
    "#     return nDot\n",
    "\n",
    "# # Test it with mat1_0 and mat2T_0, you should get 58 again\n",
    "# print(myDot(mat1_0, mat2T_0))"
   ]
  },
  {
   "cell_type": "markdown",
   "metadata": {},
   "source": [
    "#### Part 4: The Matrix Multiplication\n",
    "You know how to calculate the dot product, so now all you have to do is fill in the values of the productMatrix. \n",
    "We already calculated the value that's going into [0,0]. NumpyArrays are mutable, so you can change the value using the following:"
   ]
  },
  {
   "cell_type": "code",
   "execution_count": 70,
   "metadata": {},
   "outputs": [
    {
     "name": "stdout",
     "output_type": "stream",
     "text": [
      "[[58  0]\n",
      " [ 0  0]]\n"
     ]
    }
   ],
   "source": [
    "productMatrix[0,0] = nDot\n",
    "print(productMatrix)"
   ]
  },
  {
   "cell_type": "markdown",
   "metadata": {},
   "source": [
    "To calculate the value that goes into [0,1], you need to find the dot product of the first row of the first matrix, and the second row of the transposed second matrix."
   ]
  },
  {
   "cell_type": "code",
   "execution_count": 71,
   "metadata": {},
   "outputs": [
    {
     "name": "stdout",
     "output_type": "stream",
     "text": [
      "64\n"
     ]
    }
   ],
   "source": [
    "nDot2 = myDot(mat1[0], mat2T[1]) # remember that indexes start at 0\n",
    "print(nDot2) # should be 64"
   ]
  },
  {
   "cell_type": "markdown",
   "metadata": {},
   "source": [
    "..and so forth. In the following cell, iterate through each position of the productMatrix, and calculate the value that should go into each spot.\n",
    "<br>Hints:\n",
    "<ul>\n",
    "<li> You'll need a nested loop </li>\n",
    "<li> You'll want to keep track of what index you're on, so use enumerate! </li>\n",
    "<ul>"
   ]
  },
  {
   "cell_type": "code",
   "execution_count": 98,
   "metadata": {
    "collapsed": true
   },
   "outputs": [],
   "source": [
    "# Uncomment the below and complete! \n",
    "\n",
    "# for i,row in enumerate(productMatrix):\n",
    "\n",
    "print(productMatrix)"
   ]
  },
  {
   "cell_type": "markdown",
   "metadata": {},
   "source": [
    "#### Part 5: Make your function\n",
    "Now that you have all the pieces, put them together to make the function matrixMultiplication(matrix1, matrix2).<br>\n",
    "Here are the steps/requirements:\n",
    "<ul>\n",
    "<li> Check that the number of columns in matrix1 equals number of rows in matrix2</li>\n",
    "<li> If not, raise a ValueError with any message you want and exit out (check out my section notes on 1/28 to see how to raise an error) </li>\n",
    "<li> Make an square zero matrix called productMatrix that is the size of the number of rows of matrix1 and number of columns of matrix2 </li>\n",
    "<li> Transpose matrix2, call it matrix2T </li>\n",
    "<li> Iterate through each position of productMatrix and calculate the value that should go in it. You MUST use the myDot function that you created above </li>\n",
    "<li> return the productMatrix </li>\n",
    "</ul>\n"
   ]
  },
  {
   "cell_type": "code",
   "execution_count": 96,
   "metadata": {
    "collapsed": true
   },
   "outputs": [],
   "source": [
    "# Uncomment the below and complete! \n",
    "\n",
    "# def matrixMultiplication(matrix1, matrix2):\n",
    "    \n",
    "#     # check if dimensions are correct\n",
    "    \n",
    "    \n",
    "#     # make product matris\n",
    "     \n",
    "    \n",
    "#     # transpose matrix2\n",
    "  \n",
    "    \n",
    "#     # iterate through productMatrix and find values\n",
    "    \n",
    "#     #return productMatrix\n",
    "#     return(productMatrix)\n",
    "    "
   ]
  },
  {
   "cell_type": "code",
   "execution_count": null,
   "metadata": {
    "collapsed": true
   },
   "outputs": [],
   "source": [
    "matrixMultiplication(mat1,mat2)"
   ]
  },
  {
   "cell_type": "markdown",
   "metadata": {},
   "source": [
    "#### Part 6: Testing\n",
    "Congrats, you made a function that can perform matrix multiplication! Fun fact, NumPy already has a function that does this for us called .dot(). We can test our solution by comparing it to NumPy's .dot() solution"
   ]
  },
  {
   "cell_type": "code",
   "execution_count": 76,
   "metadata": {},
   "outputs": [
    {
     "data": {
      "text/plain": [
       "array([[ 58,  64],\n",
       "       [139, 154]])"
      ]
     },
     "execution_count": 76,
     "metadata": {},
     "output_type": "execute_result"
    }
   ],
   "source": [
    "np.dot(mat1,mat2) # this should be the same as the result that we calculated"
   ]
  },
  {
   "cell_type": "markdown",
   "metadata": {},
   "source": [
    "You should always test your code. In the following few cells, I will provide matrices to multiply. "
   ]
  },
  {
   "cell_type": "code",
   "execution_count": 100,
   "metadata": {
    "collapsed": true
   },
   "outputs": [],
   "source": [
    "# This test should pass. We should have a 2x2 matrix\n",
    "\n",
    "test1 = np.array(range(3,13), int).reshape(2,5)\n",
    "test2 = np.array(range(10,20), int).reshape(5,2)\n",
    "\n",
    "print(matrixMultiplication(test1,test2), \"\\n\")\n",
    "print(np.dot(test1,test2))"
   ]
  },
  {
   "cell_type": "code",
   "execution_count": 101,
   "metadata": {
    "collapsed": true
   },
   "outputs": [],
   "source": [
    "# This test should pass. We should have a 2x2 matrix\n",
    "\n",
    "test1 = np.array(range(3,9), int).reshape(2,3)\n",
    "test2 = np.array(range(10,16), int).reshape(3,2)\n",
    "\n",
    "print(matrixMultiplication(test1,test2), \"\\n\")\n",
    "print(np.dot(test1,test2))"
   ]
  },
  {
   "cell_type": "code",
   "execution_count": 102,
   "metadata": {
    "collapsed": true
   },
   "outputs": [],
   "source": [
    "# This should return an error \n",
    "\n",
    "test1 = np.array(range(5,15), int).reshape(5,2)\n",
    "test2 = np.array(range(30,40), int).reshape(5,2)\n",
    "\n",
    "print(matrixMultiplication(test1,test2), \"\\n\")\n",
    "print(np.dot(test1,test2))"
   ]
  },
  {
   "cell_type": "code",
   "execution_count": 103,
   "metadata": {
    "collapsed": true
   },
   "outputs": [],
   "source": [
    "# This test should pass. We should have a 3x5 matrix\n",
    "\n",
    "test1 = np.array(range(3,9), int).reshape(3,2)\n",
    "test2 = np.array(range(10,20), int).reshape(2,5)\n",
    "\n",
    "print(matrixMultiplication(test1,test2), \"\\n\")\n",
    "print(np.dot(test1,test2))"
   ]
  },
  {
   "cell_type": "markdown",
   "metadata": {},
   "source": [
    "## Problem 5: Fun with pictures!\n",
    "### Created by: Joe\n",
    "### Undergraduate 2.5 points Graduate 2 points\n",
    "\n",
    "# Fun with pictures!\n",
    "\n",
    "NOTE: This problem requires an image that can be downloaded from the Canvas assignment page.\n",
    "\n",
    "Fun things to do with numpy?\n",
    "\n",
    "Really, this is just an excuse to practice your Python skills.  I've taken a picture and garbled it so that it is unrecognizable (at least to me).\n",
    "\n",
    "To do:\n",
    "\n",
    "- Load the picture.\n",
    "- Search the array of colors for the three most populous values/colors.\n",
    "- Change all the less popular colors to the most frequent most populous neighbor.\n",
    "- Save the picture\n"
   ]
  },
  {
   "cell_type": "code",
   "execution_count": null,
   "metadata": {
    "collapsed": true
   },
   "outputs": [],
   "source": [
    "# various libraries you might want.  We load them up top.\n",
    "import os\n",
    "import random\n",
    "from PIL import Image\n",
    "import numpy as np"
   ]
  },
  {
   "cell_type": "markdown",
   "metadata": {},
   "source": [
    "First things first, we need to load the image.  In order to do that, you need to be in the right directory.  The command os.getcwd will help you get a bearing on where you are.  The command os.listdir will help you figure out if the file we want to load is in yoru directory.  And if you're in the wrong place, try os.chdir"
   ]
  },
  {
   "cell_type": "code",
   "execution_count": null,
   "metadata": {
    "collapsed": true
   },
   "outputs": [],
   "source": [
    "# use os commands to navigate to the directory you need.\n"
   ]
  },
  {
   "cell_type": "markdown",
   "metadata": {},
   "source": [
    "Once you've found the directory you need, construct the path to your file.  This should be a conglomeration of the directory you're in, and the desired file name (maybe with an extra character or two conjoining them)."
   ]
  },
  {
   "cell_type": "code",
   "execution_count": null,
   "metadata": {
    "collapsed": true
   },
   "outputs": [],
   "source": [
    "path_to_file = \n"
   ]
  },
  {
   "cell_type": "markdown",
   "metadata": {},
   "source": [
    "If you've stored the correct path to the variable in the cell above, then the cell below should open your file and store it to a numpy array."
   ]
  },
  {
   "cell_type": "code",
   "execution_count": null,
   "metadata": {
    "collapsed": true
   },
   "outputs": [],
   "source": [
    "# Use the image library to open my intended file\n",
    "im_frame = Image.open(path_to_file)\n",
    "\n",
    "# turn the imported image into a numpy array\n",
    "np_frame = np.array(im_frame)"
   ]
  },
  {
   "cell_type": "code",
   "execution_count": null,
   "metadata": {
    "collapsed": true
   },
   "outputs": [],
   "source": [
    "# what does our numpy frame look like?\n",
    "np_frame"
   ]
  },
  {
   "cell_type": "markdown",
   "metadata": {},
   "source": [
    "Figure out what the dimensions of our numpy array are, and see if the correlate to the dimensions of the picture."
   ]
  },
  {
   "cell_type": "code",
   "execution_count": null,
   "metadata": {
    "collapsed": true
   },
   "outputs": [],
   "source": [
    "# what is the shape of our numpy array?\n",
    "# You should get three coordinates.\n",
    "np_frame.shape"
   ]
  },
  {
   "cell_type": "markdown",
   "metadata": {},
   "source": [
    "You should have gotten a three dimensional object.  The first two numbers are limits on x and y coordinates for pixels.  The last number tells us how many datum are needed to express the color/intensity of each pixel."
   ]
  },
  {
   "cell_type": "markdown",
   "metadata": {},
   "source": [
    "I scrambled 99% of the pixels.  But!  The pixels were scrambled randomly, and there were only four colors in the original picture.  So, we need to iterate through the image and find the four most populous pixel colors.  Those colors should ocur much more frequently than all of the random colors."
   ]
  },
  {
   "cell_type": "code",
   "execution_count": null,
   "metadata": {
    "collapsed": true
   },
   "outputs": [],
   "source": [
    "# to iterate over image, we need to know the x and y bounds.\n",
    "# If you haven't already, save your x and y limits to reasonable\n",
    "# variables here.\n",
    "\n",
    "limx = \n",
    "limy = "
   ]
  },
  {
   "cell_type": "markdown",
   "metadata": {},
   "source": [
    "The suggestion now is to iterate over each row of your numpy array looking at the color for each pixel.  Use a dictionary to keep track of how many times each color has shown up (pixel colors as keys, and counts as values).  I'd recommend using the defaultdict from the collections library to save yourself some work.  After you count the colors for all the pixels, find the four most frequent colors and put them in a list called colors."
   ]
  },
  {
   "cell_type": "code",
   "execution_count": null,
   "metadata": {
    "collapsed": true
   },
   "outputs": [],
   "source": []
  },
  {
   "cell_type": "markdown",
   "metadata": {},
   "source": [
    "Now we want to create a new array the same shape as the old array.  I'd suggest creating a numpy array with the same shape as the old array, but with all zeros.  Call this new numpy array, data."
   ]
  },
  {
   "cell_type": "code",
   "execution_count": null,
   "metadata": {
    "collapsed": true
   },
   "outputs": [],
   "source": [
    "data = "
   ]
  },
  {
   "cell_type": "markdown",
   "metadata": {},
   "source": [
    "The next cell defines a function which will look in a box around a pixel.  If the function finds a pixel near a pixel we are trying to fix, it will save the found color, in place of the random color, to the numpy array, data, which you created above."
   ]
  },
  {
   "cell_type": "code",
   "execution_count": null,
   "metadata": {
    "collapsed": true
   },
   "outputs": [],
   "source": [
    "def restore(x,y,limx,limy):\n",
    "    for i in range(max(x-4,0),min(x+4,limx)):\n",
    "        for j in range(max(y-4,0),min(y+4,limy)):\n",
    "            if tuple(np_frame[i][j]) in colors:\n",
    "                data[x][y] = tuple(np_frame[i][j])\n",
    "                return\n"
   ]
  },
  {
   "cell_type": "markdown",
   "metadata": {},
   "source": [
    "Second to last step.  Use for loops to iterate over the entire size of your numpy image and apply the restory function to ecah pixel.  Warning, yes, this takes a while.  If you're unimpressed with my restore function, feel free to write your own!"
   ]
  },
  {
   "cell_type": "code",
   "execution_count": null,
   "metadata": {
    "collapsed": true
   },
   "outputs": [],
   "source": [
    "%%time\n",
    "\n",
    "# your code here"
   ]
  },
  {
   "cell_type": "markdown",
   "metadata": {},
   "source": [
    "Finally, take your array, data, and save it to an image.  I'd suggest looking for an Image library command which turns numpy arrays into images ... and then a command that saves an image to your current working directory."
   ]
  },
  {
   "cell_type": "code",
   "execution_count": null,
   "metadata": {
    "collapsed": true
   },
   "outputs": [],
   "source": []
  },
  {
   "cell_type": "markdown",
   "metadata": {},
   "source": [
    "# Success?\n",
    "\n",
    "Hopefully at this point you've restored the image to the point that it is recognizable.  Is that the case?  I hope so."
   ]
  }
 ],
 "metadata": {
  "anaconda-cloud": {},
  "kernelspec": {
   "display_name": "Python 3",
   "language": "python",
   "name": "python3"
  },
  "language_info": {
   "codemirror_mode": {
    "name": "ipython",
    "version": 3
   },
   "file_extension": ".py",
   "mimetype": "text/x-python",
   "name": "python",
   "nbconvert_exporter": "python",
   "pygments_lexer": "ipython3",
   "version": "3.6.1"
  }
 },
 "nbformat": 4,
 "nbformat_minor": 1
}
